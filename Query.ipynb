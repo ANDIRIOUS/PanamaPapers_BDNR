{
 "cells": [
  {
   "cell_type": "code",
   "execution_count": 4,
   "id": "6db36242-8c7b-483a-a459-dce5e1a302c0",
   "metadata": {},
   "outputs": [],
   "source": [
    "!pip -q install py2neo"
   ]
  },
  {
   "cell_type": "code",
   "execution_count": 5,
   "id": "7367ba87-11a2-4ed3-ac0a-1459e8f086b2",
   "metadata": {},
   "outputs": [],
   "source": [
    "from py2neo import Graph\n",
    "\n",
    "# Conexión usando el nombre del servicio Docker\n",
    "url = \"bolt://neo4j:7687\"  # Cambiado de localhost a neo4j\n",
    "username = \"neo4j\"  # Usa el nombre de usuario correcto si la autenticación está habilitada\n",
    "password = \"Neo4jneo4j\"  # Usa la contraseña correcta si la autenticación está habilitada\n",
    "graph = Graph(url, auth=(username, password))\n"
   ]
  },
  {
   "cell_type": "code",
   "execution_count": 7,
   "id": "531e92da-07ac-40dd-9262-a95273e5caa7",
   "metadata": {},
   "outputs": [
    {
     "name": "stdout",
     "output_type": "stream",
     "text": [
      "[]\n"
     ]
    }
   ],
   "source": [
    "import_cmd = \"\"\"\n",
    "MATCH (o:Officer)-->(e:Entity)-->(c:Country)\n",
    "WITH e, c, COUNT(DISTINCT o) AS numOfficers\n",
    "WHERE c.name = \"British Virgin Islands\" AND numOfficers > 1\n",
    "RETURN e.name AS EntityName, c.name AS EntityCountry, numOfficers\n",
    "ORDER BY numOfficers DESC;\n",
    "\"\"\"\n",
    "\n",
    "result = graph.run(import_cmd)\n",
    "print(result.data())"
   ]
  },
  {
   "cell_type": "code",
   "execution_count": null,
   "id": "68175e15-3376-48c3-b825-81d96ebc2371",
   "metadata": {},
   "outputs": [],
   "source": []
  }
 ],
 "metadata": {
  "kernelspec": {
   "display_name": "Python 3 (ipykernel)",
   "language": "python",
   "name": "python3"
  },
  "language_info": {
   "codemirror_mode": {
    "name": "ipython",
    "version": 3
   },
   "file_extension": ".py",
   "mimetype": "text/x-python",
   "name": "python",
   "nbconvert_exporter": "python",
   "pygments_lexer": "ipython3",
   "version": "3.11.6"
  }
 },
 "nbformat": 4,
 "nbformat_minor": 5
}
